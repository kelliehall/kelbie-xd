{
    "metadata": {
        "kernelspec": {
            "name": "python3",
            "display_name": "Python 3",
            "language": "python"
        },
        "language_info": {
            "name": "python",
            "version": "3.8.10",
            "mimetype": "text/x-python",
            "codemirror_mode": {
                "name": "ipython",
                "version": 3
            },
            "pygments_lexer": "ipython3",
            "nbconvert_exporter": "python",
            "file_extension": ".py"
        }
    },
    "nbformat_minor": 2,
    "nbformat": 4,
    "cells": [
        {
            "cell_type": "code",
            "source": [
                "%pip install virtualenv\r\n",
                "!virtualenv posty"
            ],
            "metadata": {
                "azdata_cell_guid": "351cda12-1c88-416f-98f6-c52f944c3448",
                "language": "python",
                "tags": []
            },
            "outputs": [],
            "execution_count": null
        },
        {
            "cell_type": "code",
            "source": [
                "!posty\\Scripts\\activate\r\n",
                "# %pip install --upgrade pip"
            ],
            "metadata": {
                "language": "python",
                "azdata_cell_guid": "9fd9209c-74ec-4941-b16e-5516865595f0"
            },
            "outputs": [],
            "execution_count": null
        },
        {
            "cell_type": "code",
            "source": [
                "import requests\r\n",
                "\r\n",
                "# Examples \r\n",
                "\r\n",
                "# GET\r\n",
                "response = requests.get('http://localhost:8080/aoc/day1')\r\n",
                "print(response.status_code)\r\n",
                "print(response.text)\r\n",
                "\r\n",
                "#POST\r\n",
                "# response = requests.post('https://api.example.com/data', data=data)\r\n",
                "# print(response.status_code)\r\n",
                "# print(response.text)"
            ],
            "metadata": {
                "language": "python",
                "azdata_cell_guid": "50a56b41-996f-4176-9600-48680217d334"
            },
            "outputs": [],
            "execution_count": null
        }
    ]
}